{
 "cells": [
  {
   "cell_type": "markdown",
   "metadata": {},
   "source": [
    "# Python and SQL with SQLite3"
   ]
  },
  {
   "cell_type": "markdown",
   "metadata": {},
   "source": [
    "Extension: https://marketplace.visualstudio.com/items?itemName=qwtel.sqlite-viewer"
   ]
  },
  {
   "cell_type": "code",
   "execution_count": 1,
   "metadata": {},
   "outputs": [],
   "source": [
    "import sqlite3"
   ]
  },
  {
   "cell_type": "markdown",
   "metadata": {},
   "source": [
    "## Connecting to Database"
   ]
  },
  {
   "cell_type": "code",
   "execution_count": 14,
   "metadata": {},
   "outputs": [],
   "source": [
    "# Connect to database (or create one)\n",
    "connection = sqlite3.connect(\"database.sqlite\")\n",
    "cursor = connection.cursor()"
   ]
  },
  {
   "cell_type": "markdown",
   "metadata": {},
   "source": [
    "## Creating Table"
   ]
  },
  {
   "cell_type": "markdown",
   "metadata": {},
   "source": [
    "Table Name: user\n",
    "\n",
    "Contains: ID, Name, Age"
   ]
  },
  {
   "cell_type": "code",
   "execution_count": null,
   "metadata": {},
   "outputs": [],
   "source": [
    "# Create table\n",
    "cursor.execute('''CREATE TABLE IF NOT EXISTS users (\n",
    "                    id INTEGER PRIMARY KEY AUTOINCREMENT,\n",
    "                    name TEXT NOT NULL,\n",
    "                    age INTEGER,\n",
    "                    gender TEXT NOT NULL)''')"
   ]
  },
  {
   "cell_type": "markdown",
   "metadata": {},
   "source": [
    "### Task: Create a Table\n",
    "Create another table \"city\"\n",
    "\n",
    "Requirement: ID, Name, Country"
   ]
  },
  {
   "cell_type": "code",
   "execution_count": null,
   "metadata": {},
   "outputs": [],
   "source": []
  },
  {
   "cell_type": "markdown",
   "metadata": {},
   "source": [
    "## Lisitng Tables"
   ]
  },
  {
   "cell_type": "code",
   "execution_count": null,
   "metadata": {},
   "outputs": [],
   "source": [
    "cursor.execute(\"SELECT name FROM sqlite_master WHERE type='table';\")\n",
    "tables = cursor.fetchall()\n",
    "\n",
    "# Print table names\n",
    "for table in tables:\n",
    "    print(table[0])"
   ]
  },
  {
   "cell_type": "markdown",
   "metadata": {},
   "source": [
    "## Creating Data"
   ]
  },
  {
   "cell_type": "markdown",
   "metadata": {},
   "source": [
    "Format:\n",
    "\n",
    "cursor.execute(\"INSERT INTO table_name (content_column_name) VALUES (placeholders)\", content)"
   ]
  },
  {
   "cell_type": "code",
   "execution_count": null,
   "metadata": {},
   "outputs": [],
   "source": [
    "# Insert data\n",
    "cursor.execute(\"INSERT INTO users (name, age, gender) VALUES (?, ?, ?)\", (\"Sudip\", 25, \"M\"))\n",
    "cursor.execute(\"INSERT INTO users (name, age, gender) VALUES (?, ?, ?)\", (\"Suwarna\", 40, \"F\"))\n",
    "cursor.execute(\"INSERT INTO users (name, age, gender) VALUES (?, ?, ?)\", (\"Sudipa\", 40, \"F\"))"
   ]
  },
  {
   "cell_type": "code",
   "execution_count": 7,
   "metadata": {},
   "outputs": [],
   "source": [
    "# Commit changes\n",
    "connection.commit()"
   ]
  },
  {
   "cell_type": "markdown",
   "metadata": {},
   "source": [
    "### Placeholder: VALUES (?, ?)"
   ]
  },
  {
   "cell_type": "code",
   "execution_count": 8,
   "metadata": {},
   "outputs": [],
   "source": [
    "cursor.execute(\"INSERT INTO users (name, age, gender) VALUES ('Dhiraj', 25, 'M')\")\n",
    "connection.commit()"
   ]
  },
  {
   "cell_type": "markdown",
   "metadata": {},
   "source": [
    "### Task: Add Kathmandu and Dharan to City Table"
   ]
  },
  {
   "cell_type": "code",
   "execution_count": 9,
   "metadata": {},
   "outputs": [],
   "source": []
  },
  {
   "cell_type": "markdown",
   "metadata": {},
   "source": [
    "## Reading Data from Database"
   ]
  },
  {
   "cell_type": "code",
   "execution_count": null,
   "metadata": {},
   "outputs": [],
   "source": [
    "# Query data\n",
    "cursor.execute(\"SELECT * FROM users\")\n",
    "rows = cursor.fetchall()\n",
    "for row in rows:\n",
    "    print(row)"
   ]
  },
  {
   "cell_type": "markdown",
   "metadata": {},
   "source": [
    "### Task: Read Data from City"
   ]
  },
  {
   "cell_type": "code",
   "execution_count": null,
   "metadata": {},
   "outputs": [],
   "source": []
  },
  {
   "cell_type": "markdown",
   "metadata": {},
   "source": [
    "## Update Data"
   ]
  },
  {
   "cell_type": "code",
   "execution_count": 12,
   "metadata": {},
   "outputs": [],
   "source": [
    "# Update data\n",
    "cursor.execute(\"UPDATE users SET gender = ? WHERE name = ?\", (\"M\", \"Suwarna\"))\n",
    "connection.commit()"
   ]
  },
  {
   "cell_type": "markdown",
   "metadata": {},
   "source": [
    "### Task: Correct Sudipa's Age to 20"
   ]
  },
  {
   "cell_type": "code",
   "execution_count": null,
   "metadata": {},
   "outputs": [],
   "source": []
  },
  {
   "cell_type": "markdown",
   "metadata": {},
   "source": [
    "## Delete Data"
   ]
  },
  {
   "cell_type": "code",
   "execution_count": 13,
   "metadata": {},
   "outputs": [],
   "source": [
    "# Delete data\n",
    "cursor.execute(\"DELETE FROM users WHERE name = ?\", (\"Dhiraj\",))\n",
    "connection.commit()"
   ]
  },
  {
   "cell_type": "markdown",
   "metadata": {},
   "source": [
    "### Task: Delete Suwarna from Table"
   ]
  },
  {
   "cell_type": "code",
   "execution_count": null,
   "metadata": {},
   "outputs": [],
   "source": []
  },
  {
   "cell_type": "markdown",
   "metadata": {},
   "source": [
    "## Terminating Connection"
   ]
  },
  {
   "cell_type": "code",
   "execution_count": 15,
   "metadata": {},
   "outputs": [],
   "source": [
    "# Close connection\n",
    "connection.close()"
   ]
  },
  {
   "cell_type": "markdown",
   "metadata": {},
   "source": [
    "# Testing with External Data"
   ]
  },
  {
   "cell_type": "markdown",
   "metadata": {},
   "source": [
    "Original File Link: https://www.kaggle.com/datasets/brendan45774/countries-life-expectancy (in CSV)\n",
    "\n",
    "Recommended Download Location: https://github.com/CS50xNepalOfficial/CS50AI"
   ]
  },
  {
   "cell_type": "markdown",
   "metadata": {},
   "source": [
    "## Connecting to Database"
   ]
  },
  {
   "cell_type": "markdown",
   "metadata": {},
   "source": [
    "### Task: Connect to LifeExpectancy Database"
   ]
  },
  {
   "cell_type": "code",
   "execution_count": null,
   "metadata": {},
   "outputs": [],
   "source": []
  },
  {
   "cell_type": "markdown",
   "metadata": {},
   "source": [
    "### Task: Get Data Related to Australia"
   ]
  },
  {
   "cell_type": "code",
   "execution_count": null,
   "metadata": {},
   "outputs": [],
   "source": []
  },
  {
   "cell_type": "markdown",
   "metadata": {},
   "source": [
    "## Plotting Data"
   ]
  },
  {
   "cell_type": "code",
   "execution_count": null,
   "metadata": {},
   "outputs": [],
   "source": [
    "%pip install matplotlib"
   ]
  },
  {
   "cell_type": "code",
   "execution_count": 108,
   "metadata": {},
   "outputs": [],
   "source": [
    "import matplotlib.pyplot as plt"
   ]
  },
  {
   "cell_type": "code",
   "execution_count": null,
   "metadata": {},
   "outputs": [],
   "source": [
    "# Extracting data for plotting\n",
    "years = [row[1] for row in data]  # Extract years\n",
    "values = [row[2] for row in data]  # Extract values\n",
    "\n",
    "# Plotting the data\n",
    "# plt.figure(figsize=(8, 5))\n",
    "plt.plot(years, values)  # Line plot\n",
    "\n",
    "# Adding labels and title\n",
    "plt.xlabel('Year')\n",
    "plt.ylabel('Value')\n",
    "plt.title('Data for Australia')\n",
    "plt.legend()\n",
    "plt.grid(True)\n",
    "\n",
    "# Display the plot\n",
    "plt.show()"
   ]
  },
  {
   "cell_type": "markdown",
   "metadata": {},
   "source": [
    "### Task: Plot Data from China"
   ]
  },
  {
   "cell_type": "code",
   "execution_count": null,
   "metadata": {},
   "outputs": [],
   "source": []
  },
  {
   "cell_type": "code",
   "execution_count": null,
   "metadata": {},
   "outputs": [],
   "source": []
  },
  {
   "cell_type": "markdown",
   "metadata": {},
   "source": [
    "# Extra: Exploring Data, Visualizing, and Finding Insights"
   ]
  },
  {
   "cell_type": "code",
   "execution_count": null,
   "metadata": {},
   "outputs": [],
   "source": [
    "LifeData.execute(\"SELECT * FROM LifeExpectancy\")\n",
    "data = LifeData.fetchall()\n",
    "data\n",
    "\n",
    "# Organizing data by country\n",
    "country_data = {}\n",
    "for country, year, value in data:\n",
    "    if country not in country_data:\n",
    "        country_data[country] = {'years': [], 'values': []}\n",
    "    country_data[country]['years'].append(year)\n",
    "    country_data[country]['values'].append(value)\n",
    "\n",
    "# Create a 3x5 grid layout for subplots\n",
    "fig, axes = plt.subplots(nrows=8, ncols=2, figsize=(20, 24), sharey=True)\n",
    "\n",
    "# Flatten the axes array for easier iteration\n",
    "axes = axes.flatten()\n",
    "\n",
    "# Plot data for each country in its own subplot\n",
    "for ax, (country, data) in zip(axes, country_data.items()):\n",
    "    ax.plot(data['years'], data['values'], label=country)\n",
    "\n",
    "    # ax.fill_between(x=[1914, 1918], \n",
    "    #                 y1=0, \n",
    "    #                 y2=[max(data['values'])], \n",
    "    #                 color='gray', alpha=0.3, label=\"WWI Period\")\n",
    "    \n",
    "    # ax.fill_between(x=[1939, 1945], \n",
    "    #                 y1=0, \n",
    "    #                 y2=[max(data['values'])], \n",
    "    #                 color='gray', alpha=0.3, label=\"WWII Period\")\n",
    "\n",
    "    ax.set_title(country, fontsize=10)\n",
    "    ax.set_xlabel(\"Year\", fontsize=8)\n",
    "    ax.tick_params(axis='x', labelsize=8)\n",
    "    ax.grid(True)\n",
    "\n",
    "# Remove any unused subplots\n",
    "for ax in axes[len(country_data):]:\n",
    "    ax.set_visible(False)\n",
    "\n",
    "# Add a shared Y-axis label\n",
    "fig.text(0.04, 0.5, 'Value', va='center', rotation='vertical', fontsize=12)\n",
    "\n",
    "# Adjust layout\n",
    "plt.tight_layout()\n",
    "plt.show()"
   ]
  }
 ],
 "metadata": {
  "kernelspec": {
   "display_name": "Python 3",
   "language": "python",
   "name": "python3"
  },
  "language_info": {
   "codemirror_mode": {
    "name": "ipython",
    "version": 3
   },
   "file_extension": ".py",
   "mimetype": "text/x-python",
   "name": "python",
   "nbconvert_exporter": "python",
   "pygments_lexer": "ipython3",
   "version": "3.9.6"
  }
 },
 "nbformat": 4,
 "nbformat_minor": 2
}
